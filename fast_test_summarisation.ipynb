{
 "cells": [
  {
   "cell_type": "code",
   "source": [
    "from google.colab import drive\n",
    "drive.mount('/content/drive')"
   ],
   "metadata": {
    "colab": {
     "base_uri": "https://localhost:8080/"
    },
    "id": "BUusO0Z6BEAD",
    "executionInfo": {
     "status": "ok",
     "timestamp": 1653294306080,
     "user_tz": -480,
     "elapsed": 19623,
     "user": {
      "displayName": "冯好国",
      "userId": "13608503525967614840"
     }
    },
    "outputId": "ae7fa1fe-c252-4eac-e038-ff478200b3b7"
   },
   "execution_count": 3,
   "outputs": [
    {
     "output_type": "stream",
     "name": "stdout",
     "text": [
      "Mounted at /content/drive\n"
     ]
    }
   ]
  },
  {
   "cell_type": "code",
   "source": [
    "!pip install /content/drive/MyDrive/"
   ],
   "metadata": {
    "colab": {
     "base_uri": "https://localhost:8080/"
    },
    "id": "xxdl2lbzBLge",
    "executionInfo": {
     "status": "ok",
     "timestamp": 1653294362896,
     "user_tz": -480,
     "elapsed": 36824,
     "user": {
      "displayName": "冯好国",
      "userId": "13608503525967614840"
     }
    },
    "outputId": "3ce5f326-2b7a-45cc-f93c-300aba60596c"
   },
   "execution_count": 4,
   "outputs": [
    {
     "output_type": "stream",
     "name": "stdout",
     "text": [
      "Processing ./drive/MyDrive\n",
      "\u001B[33m  DEPRECATION: A future pip version will change local packages to be built in-place without first copying to a temporary directory. We recommend you use --use-feature=in-tree-build to test your packages with this new behavior before it becomes the default.\n",
      "   pip 21.3 will remove support for this functionality. You can find discussion regarding this at https://github.com/pypa/pip/issues/7555.\u001B[0m\n",
      "Requirement already satisfied: matplotlib in /usr/local/lib/python3.7/dist-packages (from fast-bert==2.0.3) (3.2.2)\n",
      "Collecting pytorch-lamb\n",
      "  Downloading pytorch_lamb-1.0.0-py3-none-any.whl (4.4 kB)\n",
      "Collecting tensorboardX\n",
      "  Downloading tensorboardX-2.5-py2.py3-none-any.whl (125 kB)\n",
      "\u001B[K     |████████████████████████████████| 125 kB 5.1 MB/s \n",
      "\u001B[?25hRequirement already satisfied: fastprogress in /usr/local/lib/python3.7/dist-packages (from fast-bert==2.0.3) (1.0.2)\n",
      "Requirement already satisfied: sklearn in /usr/local/lib/python3.7/dist-packages (from fast-bert==2.0.3) (0.0)\n",
      "Requirement already satisfied: spacy in /usr/local/lib/python3.7/dist-packages (from fast-bert==2.0.3) (2.2.4)\n",
      "Collecting seqeval\n",
      "  Downloading seqeval-1.2.2.tar.gz (43 kB)\n",
      "\u001B[K     |████████████████████████████████| 43 kB 2.2 MB/s \n",
      "\u001B[?25hRequirement already satisfied: transformers in /usr/local/lib/python3.7/dist-packages (from fast-bert==2.0.3) (4.19.2)\n",
      "Requirement already satisfied: pandas in /usr/local/lib/python3.7/dist-packages (from fast-bert==2.0.3) (1.3.5)\n",
      "Collecting python-box\n",
      "  Downloading python_box-6.0.2-cp37-cp37m-manylinux_2_17_x86_64.manylinux2014_x86_64.whl (3.0 MB)\n",
      "\u001B[K     |████████████████████████████████| 3.0 MB 50.3 MB/s \n",
      "\u001B[?25hRequirement already satisfied: more-itertools in /usr/local/lib/python3.7/dist-packages (from fast-bert==2.0.3) (8.13.0)\n",
      "Collecting onnx\n",
      "  Downloading onnx-1.11.0-cp37-cp37m-manylinux_2_12_x86_64.manylinux2010_x86_64.whl (12.8 MB)\n",
      "\u001B[K     |████████████████████████████████| 12.8 MB 31.1 MB/s \n",
      "\u001B[?25hCollecting onnxruntime\n",
      "  Downloading onnxruntime-1.11.1-cp37-cp37m-manylinux_2_17_x86_64.manylinux2014_x86_64.whl (5.2 MB)\n",
      "\u001B[K     |████████████████████████████████| 5.2 MB 20.0 MB/s \n",
      "\u001B[?25hCollecting onnxruntime-tools\n",
      "  Downloading onnxruntime_tools-1.7.0-py3-none-any.whl (212 kB)\n",
      "\u001B[K     |████████████████████████████████| 212 kB 79.1 MB/s \n",
      "\u001B[?25hRequirement already satisfied: numpy>=1.11 in /usr/local/lib/python3.7/dist-packages (from matplotlib->fast-bert==2.0.3) (1.21.6)\n",
      "Requirement already satisfied: cycler>=0.10 in /usr/local/lib/python3.7/dist-packages (from matplotlib->fast-bert==2.0.3) (0.11.0)\n",
      "Requirement already satisfied: python-dateutil>=2.1 in /usr/local/lib/python3.7/dist-packages (from matplotlib->fast-bert==2.0.3) (2.8.2)\n",
      "Requirement already satisfied: kiwisolver>=1.0.1 in /usr/local/lib/python3.7/dist-packages (from matplotlib->fast-bert==2.0.3) (1.4.2)\n",
      "Requirement already satisfied: pyparsing!=2.0.4,!=2.1.2,!=2.1.6,>=2.0.1 in /usr/local/lib/python3.7/dist-packages (from matplotlib->fast-bert==2.0.3) (3.0.9)\n",
      "Requirement already satisfied: typing-extensions in /usr/local/lib/python3.7/dist-packages (from kiwisolver>=1.0.1->matplotlib->fast-bert==2.0.3) (4.2.0)\n",
      "Requirement already satisfied: six>=1.5 in /usr/local/lib/python3.7/dist-packages (from python-dateutil>=2.1->matplotlib->fast-bert==2.0.3) (1.15.0)\n",
      "Requirement already satisfied: protobuf>=3.12.2 in /usr/local/lib/python3.7/dist-packages (from onnx->fast-bert==2.0.3) (3.17.3)\n",
      "Requirement already satisfied: flatbuffers in /usr/local/lib/python3.7/dist-packages (from onnxruntime->fast-bert==2.0.3) (2.0)\n",
      "Collecting py-cpuinfo\n",
      "  Downloading py-cpuinfo-8.0.0.tar.gz (99 kB)\n",
      "\u001B[K     |████████████████████████████████| 99 kB 9.8 MB/s \n",
      "\u001B[?25hRequirement already satisfied: psutil in /usr/local/lib/python3.7/dist-packages (from onnxruntime-tools->fast-bert==2.0.3) (5.4.8)\n",
      "Requirement already satisfied: packaging in /usr/local/lib/python3.7/dist-packages (from onnxruntime-tools->fast-bert==2.0.3) (21.3)\n",
      "Collecting py3nvml\n",
      "  Downloading py3nvml-0.2.7-py3-none-any.whl (55 kB)\n",
      "\u001B[K     |████████████████████████████████| 55 kB 4.0 MB/s \n",
      "\u001B[?25hCollecting coloredlogs\n",
      "  Downloading coloredlogs-15.0.1-py2.py3-none-any.whl (46 kB)\n",
      "\u001B[K     |████████████████████████████████| 46 kB 4.2 MB/s \n",
      "\u001B[?25hCollecting humanfriendly>=9.1\n",
      "  Downloading humanfriendly-10.0-py2.py3-none-any.whl (86 kB)\n",
      "\u001B[K     |████████████████████████████████| 86 kB 6.0 MB/s \n",
      "\u001B[?25hRequirement already satisfied: pytz>=2017.3 in /usr/local/lib/python3.7/dist-packages (from pandas->fast-bert==2.0.3) (2022.1)\n",
      "Collecting xmltodict\n",
      "  Downloading xmltodict-0.13.0-py2.py3-none-any.whl (10.0 kB)\n",
      "Requirement already satisfied: torchvision in /usr/local/lib/python3.7/dist-packages (from pytorch-lamb->fast-bert==2.0.3) (0.12.0+cu113)\n",
      "Requirement already satisfied: torch>=0.4.1 in /usr/local/lib/python3.7/dist-packages (from pytorch-lamb->fast-bert==2.0.3) (1.11.0+cu113)\n",
      "Requirement already satisfied: tqdm in /usr/local/lib/python3.7/dist-packages (from pytorch-lamb->fast-bert==2.0.3) (4.64.0)\n",
      "Requirement already satisfied: scikit-learn>=0.21.3 in /usr/local/lib/python3.7/dist-packages (from seqeval->fast-bert==2.0.3) (1.0.2)\n",
      "Requirement already satisfied: joblib>=0.11 in /usr/local/lib/python3.7/dist-packages (from scikit-learn>=0.21.3->seqeval->fast-bert==2.0.3) (1.1.0)\n",
      "Requirement already satisfied: threadpoolctl>=2.0.0 in /usr/local/lib/python3.7/dist-packages (from scikit-learn>=0.21.3->seqeval->fast-bert==2.0.3) (3.1.0)\n",
      "Requirement already satisfied: scipy>=1.1.0 in /usr/local/lib/python3.7/dist-packages (from scikit-learn>=0.21.3->seqeval->fast-bert==2.0.3) (1.4.1)\n",
      "Requirement already satisfied: cymem<2.1.0,>=2.0.2 in /usr/local/lib/python3.7/dist-packages (from spacy->fast-bert==2.0.3) (2.0.6)\n",
      "Requirement already satisfied: requests<3.0.0,>=2.13.0 in /usr/local/lib/python3.7/dist-packages (from spacy->fast-bert==2.0.3) (2.23.0)\n",
      "Requirement already satisfied: wasabi<1.1.0,>=0.4.0 in /usr/local/lib/python3.7/dist-packages (from spacy->fast-bert==2.0.3) (0.9.1)\n",
      "Requirement already satisfied: murmurhash<1.1.0,>=0.28.0 in /usr/local/lib/python3.7/dist-packages (from spacy->fast-bert==2.0.3) (1.0.7)\n",
      "Requirement already satisfied: catalogue<1.1.0,>=0.0.7 in /usr/local/lib/python3.7/dist-packages (from spacy->fast-bert==2.0.3) (1.0.0)\n",
      "Requirement already satisfied: setuptools in /usr/local/lib/python3.7/dist-packages (from spacy->fast-bert==2.0.3) (57.4.0)\n",
      "Requirement already satisfied: plac<1.2.0,>=0.9.6 in /usr/local/lib/python3.7/dist-packages (from spacy->fast-bert==2.0.3) (1.1.3)\n",
      "Requirement already satisfied: preshed<3.1.0,>=3.0.2 in /usr/local/lib/python3.7/dist-packages (from spacy->fast-bert==2.0.3) (3.0.6)\n",
      "Requirement already satisfied: blis<0.5.0,>=0.4.0 in /usr/local/lib/python3.7/dist-packages (from spacy->fast-bert==2.0.3) (0.4.1)\n",
      "Requirement already satisfied: thinc==7.4.0 in /usr/local/lib/python3.7/dist-packages (from spacy->fast-bert==2.0.3) (7.4.0)\n",
      "Requirement already satisfied: srsly<1.1.0,>=1.0.2 in /usr/local/lib/python3.7/dist-packages (from spacy->fast-bert==2.0.3) (1.0.5)\n",
      "Requirement already satisfied: importlib-metadata>=0.20 in /usr/local/lib/python3.7/dist-packages (from catalogue<1.1.0,>=0.0.7->spacy->fast-bert==2.0.3) (4.11.3)\n",
      "Requirement already satisfied: zipp>=0.5 in /usr/local/lib/python3.7/dist-packages (from importlib-metadata>=0.20->catalogue<1.1.0,>=0.0.7->spacy->fast-bert==2.0.3) (3.8.0)\n",
      "Requirement already satisfied: urllib3!=1.25.0,!=1.25.1,<1.26,>=1.21.1 in /usr/local/lib/python3.7/dist-packages (from requests<3.0.0,>=2.13.0->spacy->fast-bert==2.0.3) (1.24.3)\n",
      "Requirement already satisfied: certifi>=2017.4.17 in /usr/local/lib/python3.7/dist-packages (from requests<3.0.0,>=2.13.0->spacy->fast-bert==2.0.3) (2021.10.8)\n",
      "Requirement already satisfied: chardet<4,>=3.0.2 in /usr/local/lib/python3.7/dist-packages (from requests<3.0.0,>=2.13.0->spacy->fast-bert==2.0.3) (3.0.4)\n",
      "Requirement already satisfied: idna<3,>=2.5 in /usr/local/lib/python3.7/dist-packages (from requests<3.0.0,>=2.13.0->spacy->fast-bert==2.0.3) (2.10)\n",
      "Requirement already satisfied: pillow!=8.3.*,>=5.3.0 in /usr/local/lib/python3.7/dist-packages (from torchvision->pytorch-lamb->fast-bert==2.0.3) (7.1.2)\n",
      "Requirement already satisfied: pyyaml>=5.1 in /usr/local/lib/python3.7/dist-packages (from transformers->fast-bert==2.0.3) (6.0)\n",
      "Requirement already satisfied: regex!=2019.12.17 in /usr/local/lib/python3.7/dist-packages (from transformers->fast-bert==2.0.3) (2019.12.20)\n",
      "Requirement already satisfied: filelock in /usr/local/lib/python3.7/dist-packages (from transformers->fast-bert==2.0.3) (3.7.0)\n",
      "Requirement already satisfied: tokenizers!=0.11.3,<0.13,>=0.11.1 in /usr/local/lib/python3.7/dist-packages (from transformers->fast-bert==2.0.3) (0.12.1)\n",
      "Requirement already satisfied: huggingface-hub<1.0,>=0.1.0 in /usr/local/lib/python3.7/dist-packages (from transformers->fast-bert==2.0.3) (0.6.0)\n",
      "Building wheels for collected packages: fast-bert, py-cpuinfo, seqeval\n",
      "  Building wheel for fast-bert (setup.py) ... \u001B[?25l\u001B[?25hdone\n",
      "  Created wheel for fast-bert: filename=fast_bert-2.0.3-py3-none-any.whl size=118009 sha256=e581d3481870e35f0228f9474e90ab76008f61331e6453f9916f444169a0901a\n",
      "  Stored in directory: /tmp/pip-ephem-wheel-cache-5upcaijp/wheels/b5/c7/30/2496a4be9da3477c67c27d474549190804d7788e81bd4d814b\n",
      "  Building wheel for py-cpuinfo (setup.py) ... \u001B[?25l\u001B[?25hdone\n",
      "  Created wheel for py-cpuinfo: filename=py_cpuinfo-8.0.0-py3-none-any.whl size=22257 sha256=8e8ddb6ae9a8ae0503f81dad13e7e744f4552ef7c740921a6c4b14f881e6b920\n",
      "  Stored in directory: /root/.cache/pip/wheels/d2/f1/1f/041add21dc9c4220157f1bd2bd6afe1f1a49524c3396b94401\n",
      "  Building wheel for seqeval (setup.py) ... \u001B[?25l\u001B[?25hdone\n",
      "  Created wheel for seqeval: filename=seqeval-1.2.2-py3-none-any.whl size=16180 sha256=b7d05d3ea76042d90533e8edca5ac8b7412433a7bd75bee90f6cd866de71f0c7\n",
      "  Stored in directory: /root/.cache/pip/wheels/05/96/ee/7cac4e74f3b19e3158dce26a20a1c86b3533c43ec72a549fd7\n",
      "Successfully built fast-bert py-cpuinfo seqeval\n",
      "Installing collected packages: xmltodict, humanfriendly, tensorboardX, py3nvml, py-cpuinfo, onnx, coloredlogs, seqeval, pytorch-lamb, python-box, onnxruntime-tools, onnxruntime, fast-bert\n",
      "Successfully installed coloredlogs-15.0.1 fast-bert-2.0.3 humanfriendly-10.0 onnx-1.11.0 onnxruntime-1.11.1 onnxruntime-tools-1.7.0 py-cpuinfo-8.0.0 py3nvml-0.2.7 python-box-6.0.2 pytorch-lamb-1.0.0 seqeval-1.2.2 tensorboardX-2.5 xmltodict-0.13.0\n"
     ]
    }
   ]
  },
  {
   "cell_type": "code",
   "execution_count": 5,
   "metadata": {
    "id": "Okgekpdo_E7s",
    "executionInfo": {
     "status": "ok",
     "timestamp": 1653294377450,
     "user_tz": -480,
     "elapsed": 9053,
     "user": {
      "displayName": "冯好国",
      "userId": "13608503525967614840"
     }
    }
   },
   "outputs": [],
   "source": [
    "from fast_bert.data_abs import BertAbsDataBunch\n",
    "from fast_bert.learner_abs import BertAbsLearner\n",
    "from box import Box\n",
    "import logging\n",
    "import torch\n",
    "from pathlib import Path\n",
    "from transformers import BertTokenizer"
   ]
  },
  {
   "cell_type": "code",
   "source": [
    "from tokenizers.implementations.bert_wordpiece import BertWordPieceTokenizer\n",
    "from tokenizers.implementations.sentencepiece_bpe import SentencePieceBPETokenizer\n",
    "from tokenizers.implementations.byte_level_bpe import ByteLevelBPETokenizer\n",
    "# from tokenizers.implementations import BPETokenizer"
   ],
   "metadata": {
    "id": "NG74nYE3CJEU",
    "executionInfo": {
     "status": "ok",
     "timestamp": 1653295175380,
     "user_tz": -480,
     "elapsed": 302,
     "user": {
      "displayName": "冯好国",
      "userId": "13608503525967614840"
     }
    }
   },
   "execution_count": 10,
   "outputs": []
  },
  {
   "cell_type": "code",
   "source": [
    ""
   ],
   "metadata": {
    "id": "8Y1wikuRCIjP"
   },
   "execution_count": null,
   "outputs": []
  },
  {
   "cell_type": "code",
   "execution_count": 11,
   "metadata": {
    "id": "0fB3jLPt_E7x",
    "executionInfo": {
     "status": "ok",
     "timestamp": 1653295510745,
     "user_tz": -480,
     "elapsed": 315,
     "user": {
      "displayName": "冯好国",
      "userId": "13608503525967614840"
     }
    }
   },
   "outputs": [],
   "source": [
    "# 需要准备数据，才能跑以下代码"
   ]
  },
  {
   "cell_type": "code",
   "execution_count": null,
   "metadata": {
    "id": "PSLPbHjT_E7x"
   },
   "outputs": [],
   "source": [
    "path = '/content/drive/MyDrive'\n",
    "import os\n",
    "\n",
    "PATH = Path(os.path.join(path, \"sample_data/summarisation/\"))\n",
    "DATA_PATH = PATH/'data'\n",
    "MODEL_PATH = PATH/'model'"
   ]
  },
  {
   "cell_type": "code",
   "execution_count": 12,
   "metadata": {
    "id": "72YuKKjQ_E7y",
    "executionInfo": {
     "status": "ok",
     "timestamp": 1653295641757,
     "user_tz": -480,
     "elapsed": 351,
     "user": {
      "displayName": "冯好国",
      "userId": "13608503525967614840"
     }
    }
   },
   "outputs": [],
   "source": [
    "logger = logging.getLogger()"
   ]
  },
  {
   "cell_type": "code",
   "execution_count": 13,
   "metadata": {
    "id": "2oiAzBQv_E7y",
    "executionInfo": {
     "status": "ok",
     "timestamp": 1653295643205,
     "user_tz": -480,
     "elapsed": 2,
     "user": {
      "displayName": "冯好国",
      "userId": "13608503525967614840"
     }
    }
   },
   "outputs": [],
   "source": [
    "args = Box({\n",
    "    \"max_seq_length\": 512,\n",
    "    \"batch_size\": 8,\n",
    "    \"learning_rate\": 5e-3,\n",
    "    \"num_train_epochs\": 6,\n",
    "    \"fp16\": True,\n",
    "    \"model_name\": 'bertabs-finetuned-cnndm',\n",
    "    \"model_type\": 'bert'\n",
    "})"
   ]
  },
  {
   "cell_type": "code",
   "execution_count": null,
   "metadata": {
    "id": "grERAzgo_E7y"
   },
   "outputs": [],
   "source": [
    ""
   ]
  },
  {
   "cell_type": "code",
   "execution_count": null,
   "metadata": {
    "id": "NP7e9vWf_E7z"
   },
   "outputs": [],
   "source": [
    "device = torch.device('cuda') if torch.cuda.device_count() else torch.device('cpu')\n",
    "if torch.cuda.device_count() > 1:\n",
    "    args.multi_gpu = True\n",
    "else:\n",
    "    args.multi_gpu = False"
   ]
  },
  {
   "cell_type": "code",
   "execution_count": null,
   "metadata": {
    "id": "XIGZNmBF_E7z"
   },
   "outputs": [],
   "source": [
    "tokenizer = BertWordPieceTokenizer(str(MODEL_PATH/'vocab.txt'), lowercase=True)"
   ]
  },
  {
   "cell_type": "code",
   "execution_count": null,
   "metadata": {
    "id": "B8yMO51v_E70"
   },
   "outputs": [],
   "source": [
    "databunch = BertAbsDataBunch(data_dir=DATA_PATH, tokenizer=tokenizer, device=device)\n",
    "databunch_old = BertAbsDataBunch(data_dir=DATA_PATH, tokenizer=args.model_name, device=device)"
   ]
  },
  {
   "cell_type": "code",
   "execution_count": null,
   "metadata": {
    "id": "BI_SErvP_E70"
   },
   "outputs": [],
   "source": [
    "databunch_with_data = BertAbsDataBunch(data_dir=DATA_PATH, tokenizer=args.model_name, device=device)"
   ]
  },
  {
   "cell_type": "code",
   "execution_count": null,
   "metadata": {
    "id": "Bt80zcNM_E71"
   },
   "outputs": [],
   "source": [
    "databunch_with_data_new_tokeniser = BertAbsDataBunch(data_dir=DATA_PATH, tokenizer=tokenizer, device=device)"
   ]
  },
  {
   "cell_type": "code",
   "execution_count": null,
   "metadata": {
    "id": "6hston7L_E71"
   },
   "outputs": [],
   "source": [
    "learner = BertAbsLearner.from_pretrained_model(databunch, MODEL_PATH, device, logger=logger)"
   ]
  },
  {
   "cell_type": "code",
   "execution_count": null,
   "metadata": {
    "id": "aojTylu__E71"
   },
   "outputs": [],
   "source": [
    "texts = databunch_with_data.test_dl.dataset[0][1]\n",
    "texts"
   ]
  },
  {
   "cell_type": "code",
   "execution_count": null,
   "metadata": {
    "id": "Gh8I_4SI_E72"
   },
   "outputs": [],
   "source": [
    "%%timeit\n",
    "learner.predict_batch(texts)"
   ]
  },
  {
   "cell_type": "code",
   "execution_count": null,
   "metadata": {
    "id": "rB9g8vX-_E72"
   },
   "outputs": [],
   "source": [
    "learner_old = BertAbsLearner.from_pretrained_model(databunch_old, MODEL_PATH, device, logger=logger)"
   ]
  },
  {
   "cell_type": "code",
   "execution_count": null,
   "metadata": {
    "id": "fON4FOjb_E73"
   },
   "outputs": [],
   "source": [
    "%%timeit\n",
    "learner_old.predict_batch(texts)"
   ]
  },
  {
   "cell_type": "code",
   "execution_count": null,
   "metadata": {
    "id": "2svDc8qU_E74"
   },
   "outputs": [],
   "source": [
    ""
   ]
  },
  {
   "cell_type": "code",
   "execution_count": null,
   "metadata": {
    "id": "NOogkfvE_E74"
   },
   "outputs": [],
   "source": [
    ""
   ]
  }
 ],
 "metadata": {
  "kernelspec": {
   "display_name": "Python 3",
   "language": "python",
   "name": "python3"
  },
  "language_info": {
   "codemirror_mode": {
    "name": "ipython",
    "version": 3
   },
   "file_extension": ".py",
   "mimetype": "text/x-python",
   "name": "python",
   "nbconvert_exporter": "python",
   "pygments_lexer": "ipython3",
   "version": "3.7.4"
  },
  "colab": {
   "name": "fast_test_summarisation.ipynb",
   "provenance": [],
   "collapsed_sections": []
  }
 },
 "nbformat": 4,
 "nbformat_minor": 0
}