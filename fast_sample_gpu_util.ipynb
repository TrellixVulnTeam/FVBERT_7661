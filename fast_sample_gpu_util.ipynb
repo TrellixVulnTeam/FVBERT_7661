{
 "cells": [
  {
   "cell_type": "code",
   "source": [
    "!pip install GPUtil"
   ],
   "metadata": {
    "colab": {
     "base_uri": "https://localhost:8080/"
    },
    "id": "S-2z5OjVHzjz",
    "executionInfo": {
     "status": "ok",
     "timestamp": 1653296306840,
     "user_tz": -480,
     "elapsed": 4169,
     "user": {
      "displayName": "冯好国",
      "userId": "13608503525967614840"
     }
    },
    "outputId": "57b4d5b3-6cd7-4722-bea7-f0e45ffff59c"
   },
   "execution_count": 1,
   "outputs": [
    {
     "output_type": "stream",
     "name": "stdout",
     "text": [
      "Requirement already satisfied: GPUtil in /usr/local/lib/python3.7/dist-packages (1.4.0)\n"
     ]
    }
   ]
  },
  {
   "cell_type": "code",
   "execution_count": 1,
   "metadata": {
    "id": "eso8eENjHk0f",
    "executionInfo": {
     "status": "ok",
     "timestamp": 1653296322605,
     "user_tz": -480,
     "elapsed": 4,
     "user": {
      "displayName": "冯好国",
      "userId": "13608503525967614840"
     }
    }
   },
   "outputs": [],
   "source": [
    "import GPUtil\n",
    "from threading import Thread\n",
    "import time\n",
    "\n",
    "attrList = [[{'attr':'id','name':'ID'}],\n",
    "            [{'attr':'temperature','name':'GPU temp.','suffix':'C','transform': lambda x: x,'precision':0},\n",
    "             {'attr':'load','name':'GPU util.','suffix':'%','transform': lambda x: x*100,'precision':0},\n",
    "             {'attr':'memoryUtil','name':'Memory util.','suffix':'%','transform': lambda x: x*100,'precision':0}],\n",
    "            [{'attr':'memoryTotal','name':'Memory total','suffix':'MB','precision':0},\n",
    "             {'attr':'memoryUsed','name':'Memory used','suffix':'MB','precision':0},\n",
    "             {'attr':'memoryFree','name':'Memory free','suffix':'MB','precision':0}]]\n",
    "\n",
    "class Monitor(Thread):\n",
    "    def __init__(self, delay):\n",
    "        super(Monitor, self).__init__()\n",
    "        self.stopped = False\n",
    "        self.delay = delay # Time between calls to GPUtil\n",
    "        self.start()\n",
    "\n",
    "    def run(self):\n",
    "        while not self.stopped:\n",
    "            GPUtil.showUtilization(all=True)\n",
    "            GPUtil.showUtilization(attrList=attrList)\n",
    "            time.sleep(self.delay)\n",
    "\n",
    "    def stop(self):\n",
    "        self.stopped = True\n",
    "        "
   ]
  },
  {
   "cell_type": "code",
   "source": [
    "# Instantiate monitor with a 5-second delay between updates\n",
    "monitor = Monitor(5)"
   ],
   "metadata": {
    "colab": {
     "base_uri": "https://localhost:8080/"
    },
    "id": "vZ-DGOM1IrY_",
    "executionInfo": {
     "status": "ok",
     "timestamp": 1653296414312,
     "user_tz": -480,
     "elapsed": 303,
     "user": {
      "displayName": "冯好国",
      "userId": "13608503525967614840"
     }
    },
    "outputId": "2b396cb3-4a82-43c1-e199-f36a39ed5cac"
   },
   "execution_count": 9,
   "outputs": [
    {
     "output_type": "stream",
     "name": "stdout",
     "text": [
      "| ID | Name      | Serial        | UUID                                     || GPU temp. | GPU util. | Memory util. || Memory total | Memory used | Memory free || Display mode | Display active |\n",
      "--------------------------------------------------------------------------------------------------------------------------------------------------------------------------------------------------\n",
      "|  0 | Tesla K80 | 0322815133673 | GPU-d9e871be-b78d-b359-26e8-6ab6a8da497d ||       35C |        0% |           0% ||      11441MB |         0MB |     11441MB || Disabled     | Disabled       |\n",
      "| ID | GPU | MEM |\n",
      "------------------\n",
      "|  0 |  0% |  0% |\n"
     ]
    }
   ]
  },
  {
   "cell_type": "code",
   "source": [
    "monitor.run()"
   ],
   "metadata": {
    "colab": {
     "base_uri": "https://localhost:8080/",
     "height": 915
    },
    "id": "AnPCrzBUJBGQ",
    "executionInfo": {
     "status": "error",
     "timestamp": 1653296449401,
     "user_tz": -480,
     "elapsed": 27668,
     "user": {
      "displayName": "冯好国",
      "userId": "13608503525967614840"
     }
    },
    "outputId": "e0889da3-650f-4763-d4fe-a10ae4292f98"
   },
   "execution_count": 10,
   "outputs": [
    {
     "output_type": "stream",
     "name": "stdout",
     "text": [
      "| ID | Name      | Serial        | UUID                                     || GPU temp. | GPU util. | Memory util. || Memory total | Memory used | Memory free || Display mode | Display active |\n",
      "--------------------------------------------------------------------------------------------------------------------------------------------------------------------------------------------------\n",
      "|  0 | Tesla K80 | 0322815133673 | GPU-d9e871be-b78d-b359-26e8-6ab6a8da497d ||       35C |        0% |           0% ||      11441MB |         0MB |     11441MB || Disabled     | Disabled       |\n",
      "| ID | GPU | MEM |\n",
      "------------------\n",
      "|  0 |  0% |  0% |\n",
      "| ID | Name      | Serial        | UUID                                     || GPU temp. | GPU util. | Memory util. || Memory total | Memory used | Memory free || Display mode | Display active |\n",
      "--------------------------------------------------------------------------------------------------------------------------------------------------------------------------------------------------\n",
      "|  0 | Tesla K80 | 0322815133673 | GPU-d9e871be-b78d-b359-26e8-6ab6a8da497d ||       35C |        0% |           0% ||      11441MB |         0MB |     11441MB || Disabled     | Disabled       |\n",
      "| ID | GPU | MEM |\n",
      "------------------\n",
      "|  0 |  0% |  0% |\n",
      "| ID | Name      | Serial        | UUID                                     || GPU temp. | GPU util. | Memory util. || Memory total | Memory used | Memory free || Display mode | Display active |\n",
      "--------------------------------------------------------------------------------------------------------------------------------------------------------------------------------------------------\n",
      "|  0 | Tesla K80 | 0322815133673 | GPU-d9e871be-b78d-b359-26e8-6ab6a8da497d ||       35C |        0% |           0% ||      11441MB |         0MB |     11441MB || Disabled     | Disabled       |\n",
      "| ID | GPU | MEM |\n",
      "------------------\n",
      "|  0 |  0% |  0% |\n",
      "| ID | Name      | Serial        | UUID                                     || GPU temp. | GPU util. | Memory util. || Memory total | Memory used | Memory free || Display mode | Display active |\n",
      "--------------------------------------------------------------------------------------------------------------------------------------------------------------------------------------------------\n",
      "|  0 | Tesla K80 | 0322815133673 | GPU-d9e871be-b78d-b359-26e8-6ab6a8da497d ||       35C |        0% |           0% ||      11441MB |         0MB |     11441MB || Disabled     | Disabled       |\n",
      "| ID | GPU | MEM |\n",
      "------------------\n",
      "|  0 |  0% |  0% |\n",
      "| ID | Name      | Serial        | UUID                                     || GPU temp. | GPU util. | Memory util. || Memory total | Memory used | Memory free || Display mode | Display active |\n",
      "--------------------------------------------------------------------------------------------------------------------------------------------------------------------------------------------------\n",
      "|  0 | Tesla K80 | 0322815133673 | GPU-d9e871be-b78d-b359-26e8-6ab6a8da497d ||       35C |        0% |           0% ||      11441MB |         0MB |     11441MB || Disabled     | Disabled       |\n",
      "| ID | GPU | MEM |\n",
      "------------------\n",
      "|  0 |  0% |  0% |\n",
      "| ID | Name      | Serial        | UUID                                     || GPU temp. | GPU util. | Memory util. || Memory total | Memory used | Memory free || Display mode | Display active |\n",
      "--------------------------------------------------------------------------------------------------------------------------------------------------------------------------------------------------\n",
      "|  0 | Tesla K80 | 0322815133673 | GPU-d9e871be-b78d-b359-26e8-6ab6a8da497d ||       35C |        0% |           0% ||      11441MB |         0MB |     11441MB || Disabled     | Disabled       |\n",
      "| ID | GPU | MEM |\n",
      "------------------\n",
      "|  0 |  0% |  0% |\n"
     ]
    },
    {
     "output_type": "error",
     "ename": "KeyboardInterrupt",
     "evalue": "ignored",
     "traceback": [
      "\u001B[0;31m---------------------------------------------------------------------------\u001B[0m",
      "\u001B[0;31mKeyboardInterrupt\u001B[0m                         Traceback (most recent call last)",
      "\u001B[0;32m<ipython-input-10-283f4a559c07>\u001B[0m in \u001B[0;36m<module>\u001B[0;34m()\u001B[0m\n\u001B[0;32m----> 1\u001B[0;31m \u001B[0mmonitor\u001B[0m\u001B[0;34m.\u001B[0m\u001B[0mrun\u001B[0m\u001B[0;34m(\u001B[0m\u001B[0;34m)\u001B[0m\u001B[0;34m\u001B[0m\u001B[0;34m\u001B[0m\u001B[0m\n\u001B[0m",
      "\u001B[0;32m<ipython-input-1-cecbac41f48c>\u001B[0m in \u001B[0;36mrun\u001B[0;34m(self)\u001B[0m\n\u001B[1;32m     22\u001B[0m             \u001B[0mGPUtil\u001B[0m\u001B[0;34m.\u001B[0m\u001B[0mshowUtilization\u001B[0m\u001B[0;34m(\u001B[0m\u001B[0mall\u001B[0m\u001B[0;34m=\u001B[0m\u001B[0;32mTrue\u001B[0m\u001B[0;34m)\u001B[0m\u001B[0;34m\u001B[0m\u001B[0;34m\u001B[0m\u001B[0m\n\u001B[1;32m     23\u001B[0m             \u001B[0mGPUtil\u001B[0m\u001B[0;34m.\u001B[0m\u001B[0mshowUtilization\u001B[0m\u001B[0;34m(\u001B[0m\u001B[0mattrList\u001B[0m\u001B[0;34m=\u001B[0m\u001B[0mattrList\u001B[0m\u001B[0;34m)\u001B[0m\u001B[0;34m\u001B[0m\u001B[0;34m\u001B[0m\u001B[0m\n\u001B[0;32m---> 24\u001B[0;31m             \u001B[0mtime\u001B[0m\u001B[0;34m.\u001B[0m\u001B[0msleep\u001B[0m\u001B[0;34m(\u001B[0m\u001B[0mself\u001B[0m\u001B[0;34m.\u001B[0m\u001B[0mdelay\u001B[0m\u001B[0;34m)\u001B[0m\u001B[0;34m\u001B[0m\u001B[0;34m\u001B[0m\u001B[0m\n\u001B[0m\u001B[1;32m     25\u001B[0m \u001B[0;34m\u001B[0m\u001B[0m\n\u001B[1;32m     26\u001B[0m     \u001B[0;32mdef\u001B[0m \u001B[0mstop\u001B[0m\u001B[0;34m(\u001B[0m\u001B[0mself\u001B[0m\u001B[0;34m)\u001B[0m\u001B[0;34m:\u001B[0m\u001B[0;34m\u001B[0m\u001B[0;34m\u001B[0m\u001B[0m\n",
      "\u001B[0;31mKeyboardInterrupt\u001B[0m: "
     ]
    }
   ]
  },
  {
   "cell_type": "code",
   "execution_count": 11,
   "metadata": {
    "id": "pTLkBclqHk0i",
    "executionInfo": {
     "status": "ok",
     "timestamp": 1653296454301,
     "user_tz": -480,
     "elapsed": 243,
     "user": {
      "displayName": "冯好国",
      "userId": "13608503525967614840"
     }
    }
   },
   "outputs": [],
   "source": [
    "import torch\n",
    "torch.cuda.empty_cache()"
   ]
  },
  {
   "cell_type": "code",
   "execution_count": 12,
   "metadata": {
    "id": "GkCvvAZyHk0k",
    "executionInfo": {
     "status": "ok",
     "timestamp": 1653296455739,
     "user_tz": -480,
     "elapsed": 387,
     "user": {
      "displayName": "冯好国",
      "userId": "13608503525967614840"
     }
    }
   },
   "outputs": [],
   "source": [
    "monitor.stop()"
   ]
  }
 ],
 "metadata": {
  "kernelspec": {
   "display_name": "Environment (conda_pytorch_transformers)",
   "language": "python",
   "name": "conda_pytorch_transformers"
  },
  "language_info": {
   "codemirror_mode": {
    "name": "ipython",
    "version": 3
   },
   "file_extension": ".py",
   "mimetype": "text/x-python",
   "name": "python",
   "nbconvert_exporter": "python",
   "pygments_lexer": "ipython3",
   "version": "3.6.8"
  },
  "colab": {
   "name": "fast_sample_gpu_util.ipynb",
   "provenance": [],
   "collapsed_sections": []
  },
  "accelerator": "GPU"
 },
 "nbformat": 4,
 "nbformat_minor": 0
}