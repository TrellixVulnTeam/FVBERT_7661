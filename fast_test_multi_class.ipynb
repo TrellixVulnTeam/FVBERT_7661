{
 "cells": [
  {
   "cell_type": "code",
   "execution_count": 1,
   "metadata": {
    "id": "E91DI7J9uFYj",
    "executionInfo": {
     "status": "ok",
     "timestamp": 1653294025288,
     "user_tz": -480,
     "elapsed": 983,
     "user": {
      "displayName": "冯好国",
      "userId": "13608503525967614840"
     }
    }
   },
   "outputs": [],
   "source": [
    "import pandas as pd\n",
    "from pathlib import Path\n",
    "import logging\n",
    "from box import Box\n",
    "from datetime import datetime\n",
    "import sys\n",
    "import torch"
   ]
  },
  {
   "cell_type": "code",
   "source": [
    "#!pip install python-box"
   ],
   "metadata": {
    "id": "nOJldOFCvHxj"
   },
   "execution_count": null,
   "outputs": []
  },
  {
   "cell_type": "code",
   "source": [
    "from google.colab import drive\n",
    "drive.mount('/content/drive')"
   ],
   "metadata": {
    "colab": {
     "base_uri": "https://localhost:8080/"
    },
    "id": "w6sn3eAtyxu0",
    "executionInfo": {
     "status": "ok",
     "timestamp": 1653291776403,
     "user_tz": -480,
     "elapsed": 2174,
     "user": {
      "displayName": "冯好国",
      "userId": "13608503525967614840"
     }
    },
    "outputId": "b43b775b-745f-498e-8670-15439a781146"
   },
   "execution_count": null,
   "outputs": [
    {
     "output_type": "stream",
     "name": "stdout",
     "text": [
      "Drive already mounted at /content/drive; to attempt to forcibly remount, call drive.mount(\"/content/drive\", force_remount=True).\n"
     ]
    }
   ]
  },
  {
   "cell_type": "code",
   "execution_count": 2,
   "metadata": {
    "id": "0UcldgSbuFYo",
    "colab": {
     "base_uri": "https://localhost:8080/"
    },
    "executionInfo": {
     "status": "ok",
     "timestamp": 1653294034313,
     "user_tz": -480,
     "elapsed": 9029,
     "user": {
      "displayName": "冯好国",
      "userId": "13608503525967614840"
     }
    },
    "outputId": "3c147c3d-f0db-43a6-db65-dc12b2a05c3a"
   },
   "outputs": [
    {
     "output_type": "stream",
     "name": "stdout",
     "text": [
      "Processing ./drive/MyDrive\n",
      "\u001B[33m  DEPRECATION: A future pip version will change local packages to be built in-place without first copying to a temporary directory. We recommend you use --use-feature=in-tree-build to test your packages with this new behavior before it becomes the default.\n",
      "   pip 21.3 will remove support for this functionality. You can find discussion regarding this at https://github.com/pypa/pip/issues/7555.\u001B[0m\n",
      "Requirement already satisfied: matplotlib in /usr/local/lib/python3.7/dist-packages (from fast-bert==2.0.3) (3.2.2)\n",
      "Requirement already satisfied: pytorch-lamb in /usr/local/lib/python3.7/dist-packages (from fast-bert==2.0.3) (1.0.0)\n",
      "Requirement already satisfied: tensorboardX in /usr/local/lib/python3.7/dist-packages (from fast-bert==2.0.3) (2.5)\n",
      "Requirement already satisfied: fastprogress in /usr/local/lib/python3.7/dist-packages (from fast-bert==2.0.3) (1.0.2)\n",
      "Requirement already satisfied: sklearn in /usr/local/lib/python3.7/dist-packages (from fast-bert==2.0.3) (0.0)\n",
      "Requirement already satisfied: spacy in /usr/local/lib/python3.7/dist-packages (from fast-bert==2.0.3) (2.2.4)\n",
      "Requirement already satisfied: seqeval in /usr/local/lib/python3.7/dist-packages (from fast-bert==2.0.3) (1.2.2)\n",
      "Requirement already satisfied: transformers in /usr/local/lib/python3.7/dist-packages (from fast-bert==2.0.3) (4.18.0)\n",
      "Requirement already satisfied: pandas in /usr/local/lib/python3.7/dist-packages (from fast-bert==2.0.3) (1.3.5)\n",
      "Requirement already satisfied: python-box in /usr/local/lib/python3.7/dist-packages (from fast-bert==2.0.3) (6.0.2)\n",
      "Requirement already satisfied: more-itertools in /usr/local/lib/python3.7/dist-packages (from fast-bert==2.0.3) (8.13.0)\n",
      "Requirement already satisfied: onnx in /usr/local/lib/python3.7/dist-packages (from fast-bert==2.0.3) (1.11.0)\n",
      "Requirement already satisfied: onnxruntime in /usr/local/lib/python3.7/dist-packages (from fast-bert==2.0.3) (1.11.1)\n",
      "Requirement already satisfied: onnxruntime-tools in /usr/local/lib/python3.7/dist-packages (from fast-bert==2.0.3) (1.7.0)\n",
      "Requirement already satisfied: cycler>=0.10 in /usr/local/lib/python3.7/dist-packages (from matplotlib->fast-bert==2.0.3) (0.11.0)\n",
      "Requirement already satisfied: python-dateutil>=2.1 in /usr/local/lib/python3.7/dist-packages (from matplotlib->fast-bert==2.0.3) (2.8.2)\n",
      "Requirement already satisfied: numpy>=1.11 in /usr/local/lib/python3.7/dist-packages (from matplotlib->fast-bert==2.0.3) (1.21.6)\n",
      "Requirement already satisfied: kiwisolver>=1.0.1 in /usr/local/lib/python3.7/dist-packages (from matplotlib->fast-bert==2.0.3) (1.4.2)\n",
      "Requirement already satisfied: pyparsing!=2.0.4,!=2.1.2,!=2.1.6,>=2.0.1 in /usr/local/lib/python3.7/dist-packages (from matplotlib->fast-bert==2.0.3) (3.0.9)\n",
      "Requirement already satisfied: typing-extensions in /usr/local/lib/python3.7/dist-packages (from kiwisolver>=1.0.1->matplotlib->fast-bert==2.0.3) (4.2.0)\n",
      "Requirement already satisfied: six>=1.5 in /usr/local/lib/python3.7/dist-packages (from python-dateutil>=2.1->matplotlib->fast-bert==2.0.3) (1.15.0)\n",
      "Requirement already satisfied: protobuf>=3.12.2 in /usr/local/lib/python3.7/dist-packages (from onnx->fast-bert==2.0.3) (3.17.3)\n",
      "Requirement already satisfied: flatbuffers in /usr/local/lib/python3.7/dist-packages (from onnxruntime->fast-bert==2.0.3) (2.0)\n",
      "Requirement already satisfied: py-cpuinfo in /usr/local/lib/python3.7/dist-packages (from onnxruntime-tools->fast-bert==2.0.3) (8.0.0)\n",
      "Requirement already satisfied: psutil in /usr/local/lib/python3.7/dist-packages (from onnxruntime-tools->fast-bert==2.0.3) (5.4.8)\n",
      "Requirement already satisfied: coloredlogs in /usr/local/lib/python3.7/dist-packages (from onnxruntime-tools->fast-bert==2.0.3) (15.0.1)\n",
      "Requirement already satisfied: py3nvml in /usr/local/lib/python3.7/dist-packages (from onnxruntime-tools->fast-bert==2.0.3) (0.2.7)\n",
      "Requirement already satisfied: packaging in /usr/local/lib/python3.7/dist-packages (from onnxruntime-tools->fast-bert==2.0.3) (21.3)\n",
      "Requirement already satisfied: humanfriendly>=9.1 in /usr/local/lib/python3.7/dist-packages (from coloredlogs->onnxruntime-tools->fast-bert==2.0.3) (10.0)\n",
      "Requirement already satisfied: pytz>=2017.3 in /usr/local/lib/python3.7/dist-packages (from pandas->fast-bert==2.0.3) (2022.1)\n",
      "Requirement already satisfied: xmltodict in /usr/local/lib/python3.7/dist-packages (from py3nvml->onnxruntime-tools->fast-bert==2.0.3) (0.13.0)\n",
      "Requirement already satisfied: tqdm in /usr/local/lib/python3.7/dist-packages (from pytorch-lamb->fast-bert==2.0.3) (4.64.0)\n",
      "Requirement already satisfied: torch>=0.4.1 in /usr/local/lib/python3.7/dist-packages (from pytorch-lamb->fast-bert==2.0.3) (1.11.0+cu113)\n",
      "Requirement already satisfied: torchvision in /usr/local/lib/python3.7/dist-packages (from pytorch-lamb->fast-bert==2.0.3) (0.12.0+cu113)\n",
      "Requirement already satisfied: scikit-learn>=0.21.3 in /usr/local/lib/python3.7/dist-packages (from seqeval->fast-bert==2.0.3) (1.0.2)\n",
      "Requirement already satisfied: joblib>=0.11 in /usr/local/lib/python3.7/dist-packages (from scikit-learn>=0.21.3->seqeval->fast-bert==2.0.3) (1.1.0)\n",
      "Requirement already satisfied: scipy>=1.1.0 in /usr/local/lib/python3.7/dist-packages (from scikit-learn>=0.21.3->seqeval->fast-bert==2.0.3) (1.4.1)\n",
      "Requirement already satisfied: threadpoolctl>=2.0.0 in /usr/local/lib/python3.7/dist-packages (from scikit-learn>=0.21.3->seqeval->fast-bert==2.0.3) (3.1.0)\n",
      "Requirement already satisfied: catalogue<1.1.0,>=0.0.7 in /usr/local/lib/python3.7/dist-packages (from spacy->fast-bert==2.0.3) (1.0.0)\n",
      "Requirement already satisfied: preshed<3.1.0,>=3.0.2 in /usr/local/lib/python3.7/dist-packages (from spacy->fast-bert==2.0.3) (3.0.6)\n",
      "Requirement already satisfied: cymem<2.1.0,>=2.0.2 in /usr/local/lib/python3.7/dist-packages (from spacy->fast-bert==2.0.3) (2.0.6)\n",
      "Requirement already satisfied: wasabi<1.1.0,>=0.4.0 in /usr/local/lib/python3.7/dist-packages (from spacy->fast-bert==2.0.3) (0.9.1)\n",
      "Requirement already satisfied: setuptools in /usr/local/lib/python3.7/dist-packages (from spacy->fast-bert==2.0.3) (57.4.0)\n",
      "Requirement already satisfied: murmurhash<1.1.0,>=0.28.0 in /usr/local/lib/python3.7/dist-packages (from spacy->fast-bert==2.0.3) (1.0.7)\n",
      "Requirement already satisfied: plac<1.2.0,>=0.9.6 in /usr/local/lib/python3.7/dist-packages (from spacy->fast-bert==2.0.3) (1.1.3)\n",
      "Requirement already satisfied: thinc==7.4.0 in /usr/local/lib/python3.7/dist-packages (from spacy->fast-bert==2.0.3) (7.4.0)\n",
      "Requirement already satisfied: requests<3.0.0,>=2.13.0 in /usr/local/lib/python3.7/dist-packages (from spacy->fast-bert==2.0.3) (2.23.0)\n",
      "Requirement already satisfied: blis<0.5.0,>=0.4.0 in /usr/local/lib/python3.7/dist-packages (from spacy->fast-bert==2.0.3) (0.4.1)\n",
      "Requirement already satisfied: srsly<1.1.0,>=1.0.2 in /usr/local/lib/python3.7/dist-packages (from spacy->fast-bert==2.0.3) (1.0.5)\n",
      "Requirement already satisfied: importlib-metadata>=0.20 in /usr/local/lib/python3.7/dist-packages (from catalogue<1.1.0,>=0.0.7->spacy->fast-bert==2.0.3) (4.11.3)\n",
      "Requirement already satisfied: zipp>=0.5 in /usr/local/lib/python3.7/dist-packages (from importlib-metadata>=0.20->catalogue<1.1.0,>=0.0.7->spacy->fast-bert==2.0.3) (3.8.0)\n",
      "Requirement already satisfied: idna<3,>=2.5 in /usr/local/lib/python3.7/dist-packages (from requests<3.0.0,>=2.13.0->spacy->fast-bert==2.0.3) (2.10)\n",
      "Requirement already satisfied: chardet<4,>=3.0.2 in /usr/local/lib/python3.7/dist-packages (from requests<3.0.0,>=2.13.0->spacy->fast-bert==2.0.3) (3.0.4)\n",
      "Requirement already satisfied: urllib3!=1.25.0,!=1.25.1,<1.26,>=1.21.1 in /usr/local/lib/python3.7/dist-packages (from requests<3.0.0,>=2.13.0->spacy->fast-bert==2.0.3) (1.24.3)\n",
      "Requirement already satisfied: certifi>=2017.4.17 in /usr/local/lib/python3.7/dist-packages (from requests<3.0.0,>=2.13.0->spacy->fast-bert==2.0.3) (2021.10.8)\n",
      "Requirement already satisfied: pillow!=8.3.*,>=5.3.0 in /usr/local/lib/python3.7/dist-packages (from torchvision->pytorch-lamb->fast-bert==2.0.3) (7.1.2)\n",
      "Requirement already satisfied: huggingface-hub<1.0,>=0.1.0 in /usr/local/lib/python3.7/dist-packages (from transformers->fast-bert==2.0.3) (0.6.0)\n",
      "Requirement already satisfied: filelock in /usr/local/lib/python3.7/dist-packages (from transformers->fast-bert==2.0.3) (3.7.0)\n",
      "Requirement already satisfied: regex!=2019.12.17 in /usr/local/lib/python3.7/dist-packages (from transformers->fast-bert==2.0.3) (2019.12.20)\n",
      "Requirement already satisfied: sacremoses in /usr/local/lib/python3.7/dist-packages (from transformers->fast-bert==2.0.3) (0.0.53)\n",
      "Requirement already satisfied: pyyaml>=5.1 in /usr/local/lib/python3.7/dist-packages (from transformers->fast-bert==2.0.3) (6.0)\n",
      "Requirement already satisfied: tokenizers!=0.11.3,<0.13,>=0.11.1 in /usr/local/lib/python3.7/dist-packages (from transformers->fast-bert==2.0.3) (0.12.1)\n",
      "Requirement already satisfied: click in /usr/local/lib/python3.7/dist-packages (from sacremoses->transformers->fast-bert==2.0.3) (7.1.2)\n",
      "Building wheels for collected packages: fast-bert\n",
      "  Building wheel for fast-bert (setup.py) ... \u001B[?25l\u001B[?25hdone\n",
      "  Created wheel for fast-bert: filename=fast_bert-2.0.3-py3-none-any.whl size=118009 sha256=2a285abfba2d14a7b2b08433bc3de7e75b62a4f267352f04dae31e0678d4284c\n",
      "  Stored in directory: /tmp/pip-ephem-wheel-cache-ibn6jhp5/wheels/b5/c7/30/2496a4be9da3477c67c27d474549190804d7788e81bd4d814b\n",
      "Successfully built fast-bert\n",
      "Installing collected packages: fast-bert\n",
      "  Attempting uninstall: fast-bert\n",
      "    Found existing installation: fast-bert 2.0.3\n",
      "    Uninstalling fast-bert-2.0.3:\n",
      "      Successfully uninstalled fast-bert-2.0.3\n",
      "Successfully installed fast-bert-2.0.3\n"
     ]
    }
   ],
   "source": [
    "!pip install /content/drive/MyDrive/"
   ]
  },
  {
   "cell_type": "code",
   "execution_count": 3,
   "metadata": {
    "id": "t7toOf3muFYq",
    "executionInfo": {
     "status": "ok",
     "timestamp": 1653294037824,
     "user_tz": -480,
     "elapsed": 3520,
     "user": {
      "displayName": "冯好国",
      "userId": "13608503525967614840"
     }
    }
   },
   "outputs": [],
   "source": [
    "from fast_bert import BertLearner, BertDataBunch, accuracy"
   ]
  },
  {
   "cell_type": "code",
   "execution_count": 4,
   "metadata": {
    "id": "Qx1Wism-uFYr",
    "colab": {
     "base_uri": "https://localhost:8080/"
    },
    "executionInfo": {
     "status": "ok",
     "timestamp": 1653294037825,
     "user_tz": -480,
     "elapsed": 10,
     "user": {
      "displayName": "冯好国",
      "userId": "13608503525967614840"
     }
    },
    "outputId": "ea41fe71-db4d-4bf5-8e88-172f144db6ea"
   },
   "outputs": [
    {
     "output_type": "stream",
     "name": "stderr",
     "text": [
      "/usr/local/lib/python3.7/dist-packages/ipykernel_launcher.py:1: FutureWarning: Passing a negative integer is deprecated in version 1.0 and will not be supported in future version. Instead, use None to not limit the column width.\n",
      "  \"\"\"Entry point for launching an IPython kernel.\n"
     ]
    }
   ],
   "source": [
    "pd.set_option('display.max_colwidth', -1)\n",
    "run_start_time = datetime.today().strftime('%Y-%m-%d_%H-%M-%S')"
   ]
  },
  {
   "cell_type": "code",
   "source": [
    "root_path = '/content/drive/My Drive'\n",
    "import os"
   ],
   "metadata": {
    "id": "oJeoWMFqzKCX",
    "executionInfo": {
     "status": "ok",
     "timestamp": 1653294037825,
     "user_tz": -480,
     "elapsed": 7,
     "user": {
      "displayName": "冯好国",
      "userId": "13608503525967614840"
     }
    }
   },
   "execution_count": 5,
   "outputs": []
  },
  {
   "cell_type": "code",
   "execution_count": 6,
   "metadata": {
    "id": "dvbMe-X4uFYs",
    "executionInfo": {
     "status": "ok",
     "timestamp": 1653294037826,
     "user_tz": -480,
     "elapsed": 8,
     "user": {
      "displayName": "冯好国",
      "userId": "13608503525967614840"
     }
    }
   },
   "outputs": [],
   "source": [
    "PATH = Path(os.path.join(root_path, \"sample_data/imdb_movie_reviews\"))\n",
    "DATA_PATH = PATH/'data'\n",
    "LABEL_PATH = PATH/'label'\n",
    "OUT_PATH = PATH/'.output'\n",
    "OUT_PATH.mkdir(exist_ok=True)\n",
    "\n",
    "MODEL_PATH=OUT_PATH/'model'\n",
    "MODEL_PATH.mkdir(exist_ok=True)\n",
    "\n",
    "LOG_PATH = OUT_PATH/'logs/'\n",
    "LOG_PATH.mkdir(exist_ok=True)"
   ]
  },
  {
   "cell_type": "code",
   "execution_count": 7,
   "metadata": {
    "id": "rL9EBAKeuFYs",
    "executionInfo": {
     "status": "ok",
     "timestamp": 1653294037826,
     "user_tz": -480,
     "elapsed": 7,
     "user": {
      "displayName": "冯好国",
      "userId": "13608503525967614840"
     }
    }
   },
   "outputs": [],
   "source": [
    "args = Box({\n",
    "    \"run_text\": \"ibdm_reviews\",\n",
    "    \"max_seq_length\": 512,\n",
    "    \"batch_size\": 8,\n",
    "    \"learning_rate\": 5e-3,\n",
    "    \"num_train_epochs\": 8,\n",
    "    \"fp16\": False,\n",
    "    \"model_name\": 'distilroberta-base',\n",
    "    \"model_type\": 'roberta'\n",
    "})\n",
    "\n",
    "device = torch.device('cuda') if torch.cuda.device_count() else torch.device('cpu')\n",
    "if torch.cuda.device_count() > 1:\n",
    "    args.multi_gpu = True\n",
    "else:\n",
    "    args.multi_gpu = False"
   ]
  },
  {
   "cell_type": "code",
   "execution_count": 8,
   "metadata": {
    "id": "ECsJqdyNuFYt",
    "executionInfo": {
     "status": "ok",
     "timestamp": 1653294040296,
     "user_tz": -480,
     "elapsed": 3,
     "user": {
      "displayName": "冯好国",
      "userId": "13608503525967614840"
     }
    }
   },
   "outputs": [],
   "source": [
    "logfile = str(LOG_PATH/'log-{}-{}.txt'.format(run_start_time, args[\"run_text\"]))\n",
    "\n",
    "logging.basicConfig(\n",
    "    level=logging.INFO,\n",
    "    format='%(asctime)s - %(levelname)s - %(name)s -   %(message)s',\n",
    "    datefmt='%m/%d/%Y %H:%M:%S',\n",
    "    handlers=[\n",
    "        logging.FileHandler(logfile),\n",
    "        logging.StreamHandler(sys.stdout)\n",
    "    ])\n",
    "\n",
    "logger = logging.getLogger()"
   ]
  },
  {
   "cell_type": "code",
   "execution_count": 9,
   "metadata": {
    "id": "ZG_C_GBhuFYu",
    "outputId": "9315e97c-e61c-4a49-ace3-612dfea76d64",
    "colab": {
     "base_uri": "https://localhost:8080/"
    },
    "executionInfo": {
     "status": "ok",
     "timestamp": 1653294042577,
     "user_tz": -480,
     "elapsed": 256,
     "user": {
      "displayName": "冯好国",
      "userId": "13608503525967614840"
     }
    }
   },
   "outputs": [
    {
     "output_type": "execute_result",
     "data": {
      "text/plain": [
       "device(type='cuda')"
      ]
     },
     "metadata": {},
     "execution_count": 9
    }
   ],
   "source": [
    "device"
   ]
  },
  {
   "cell_type": "code",
   "execution_count": 10,
   "metadata": {
    "id": "p3mjShdduFYu",
    "outputId": "9dfe5f4c-5755-45bd-dc26-78f3b0cef56d",
    "colab": {
     "base_uri": "https://localhost:8080/"
    },
    "executionInfo": {
     "status": "ok",
     "timestamp": 1653294045613,
     "user_tz": -480,
     "elapsed": 2097,
     "user": {
      "displayName": "冯好国",
      "userId": "13608503525967614840"
     }
    }
   },
   "outputs": [
    {
     "output_type": "stream",
     "name": "stdout",
     "text": [
      "05/23/2022 08:20:45 - INFO - root -   Loading features from cached file /content/drive/My Drive/sample_data/imdb_movie_reviews/data/cache/cached_roberta_train_multi_class_512_train_sample.csv\n",
      "05/23/2022 08:20:45 - INFO - root -   Loading features from cached file /content/drive/My Drive/sample_data/imdb_movie_reviews/data/cache/cached_roberta_dev_multi_class_512_val_sample.csv\n"
     ]
    }
   ],
   "source": [
    "databunch = BertDataBunch(DATA_PATH, LABEL_PATH, args.model_name, \n",
    "                          train_file=\"train_sample.csv\", val_file=\"val_sample.csv\",\n",
    "                          batch_size_per_gpu=args.batch_size, \n",
    "                          max_seq_length=args.max_seq_length, \n",
    "                          multi_gpu=args.multi_gpu,\n",
    "                          multi_label=False,\n",
    "                          model_type=args.model_type\n",
    "                         )"
   ]
  },
  {
   "cell_type": "code",
   "execution_count": 11,
   "metadata": {
    "id": "yINk_yhOuFYv",
    "executionInfo": {
     "status": "ok",
     "timestamp": 1653294047038,
     "user_tz": -480,
     "elapsed": 246,
     "user": {
      "displayName": "冯好国",
      "userId": "13608503525967614840"
     }
    }
   },
   "outputs": [],
   "source": [
    "metrics = [{\"name\": \"accuracy\", \"function\": accuracy}]"
   ]
  },
  {
   "cell_type": "code",
   "execution_count": 12,
   "metadata": {
    "id": "dPbLRC0JuFYv",
    "outputId": "9a6d8de5-ba7a-4269-ae06-b772920d60b0",
    "colab": {
     "base_uri": "https://localhost:8080/"
    },
    "executionInfo": {
     "status": "ok",
     "timestamp": 1653294053912,
     "user_tz": -480,
     "elapsed": 5906,
     "user": {
      "displayName": "冯好国",
      "userId": "13608503525967614840"
     }
    }
   },
   "outputs": [
    {
     "output_type": "stream",
     "name": "stderr",
     "text": [
      "Some weights of the model checkpoint at distilroberta-base were not used when initializing RobertaForSequenceClassification: ['roberta.pooler.dense.weight', 'lm_head.bias', 'lm_head.dense.weight', 'lm_head.dense.bias', 'lm_head.layer_norm.bias', 'lm_head.layer_norm.weight', 'roberta.pooler.dense.bias', 'lm_head.decoder.weight']\n",
      "- This IS expected if you are initializing RobertaForSequenceClassification from the checkpoint of a model trained on another task or with another architecture (e.g. initializing a BertForSequenceClassification model from a BertForPreTraining model).\n",
      "- This IS NOT expected if you are initializing RobertaForSequenceClassification from the checkpoint of a model that you expect to be exactly identical (initializing a BertForSequenceClassification model from a BertForSequenceClassification model).\n",
      "Some weights of RobertaForSequenceClassification were not initialized from the model checkpoint at distilroberta-base and are newly initialized: ['classifier.out_proj.bias', 'classifier.out_proj.weight', 'classifier.dense.bias', 'classifier.dense.weight']\n",
      "You should probably TRAIN this model on a down-stream task to be able to use it for predictions and inference.\n"
     ]
    }
   ],
   "source": [
    "learner = BertLearner.from_pretrained_model(databunch, args.model_name, metrics=metrics, \n",
    "                                            device=device, multi_gpu=args.multi_gpu, is_fp16=args.fp16,\n",
    "                                            multi_label=False, logging_steps=0,\n",
    "                                            output_dir=OUT_PATH, logger=logger\n",
    "                                           )"
   ]
  },
  {
   "cell_type": "code",
   "execution_count": 13,
   "metadata": {
    "id": "Bq8pvFzXuFYw",
    "outputId": "e9196f86-7144-49ee-cfbf-c63ae28c2037",
    "colab": {
     "base_uri": "https://localhost:8080/",
     "height": 105
    },
    "executionInfo": {
     "status": "ok",
     "timestamp": 1653294054814,
     "user_tz": -480,
     "elapsed": 911,
     "user": {
      "displayName": "冯好国",
      "userId": "13608503525967614840"
     }
    }
   },
   "outputs": [
    {
     "output_type": "stream",
     "name": "stdout",
     "text": [
      "05/23/2022 08:20:53 - INFO - root -   Running evaluation\n",
      "05/23/2022 08:20:53 - INFO - root -     Num examples = 50\n",
      "05/23/2022 08:20:53 - INFO - root -     Batch size = 16\n"
     ]
    },
    {
     "output_type": "display_data",
     "data": {
      "text/plain": [
       "<IPython.core.display.HTML object>"
      ],
      "text/html": [
       "\n",
       "<style>\n",
       "    /* Turns off some styling */\n",
       "    progress {\n",
       "        /* gets rid of default border in Firefox and Opera. */\n",
       "        border: none;\n",
       "        /* Needs to be in here for Safari polyfill so background images work as expected. */\n",
       "        background-size: auto;\n",
       "    }\n",
       "    .progress-bar-interrupted, .progress-bar-interrupted::-webkit-progress-bar {\n",
       "        background: #F44336;\n",
       "    }\n",
       "</style>\n"
      ]
     },
     "metadata": {}
    },
    {
     "output_type": "display_data",
     "data": {
      "text/plain": [
       "<IPython.core.display.HTML object>"
      ],
      "text/html": [
       "\n",
       "    <div>\n",
       "      <progress value='4' class='' max='4' style='width:300px; height:20px; vertical-align: middle;'></progress>\n",
       "      100.00% [4/4 00:00<00:00]\n",
       "    </div>\n",
       "    "
      ]
     },
     "metadata": {}
    },
    {
     "output_type": "execute_result",
     "data": {
      "text/plain": [
       "{'accuracy': 0.64, 'loss': 0.6792075335979462}"
      ]
     },
     "metadata": {},
     "execution_count": 13
    }
   ],
   "source": [
    "learner.validate()"
   ]
  },
  {
   "cell_type": "code",
   "execution_count": 14,
   "metadata": {
    "id": "KTeTLDuIuFYw",
    "outputId": "d2b90cc1-5aed-47d4-c667-1e1b5e157b95",
    "colab": {
     "base_uri": "https://localhost:8080/",
     "height": 1000
    },
    "executionInfo": {
     "status": "ok",
     "timestamp": 1653294103277,
     "user_tz": -480,
     "elapsed": 48471,
     "user": {
      "displayName": "冯好国",
      "userId": "13608503525967614840"
     }
    }
   },
   "outputs": [
    {
     "output_type": "stream",
     "name": "stdout",
     "text": [
      "05/23/2022 08:20:54 - INFO - root -   ***** Running training *****\n",
      "05/23/2022 08:20:54 - INFO - root -     Num examples = 100\n",
      "05/23/2022 08:20:54 - INFO - root -     Num Epochs = 8\n",
      "05/23/2022 08:20:54 - INFO - root -     Total train batch size (w. parallel, distributed & accumulation) = 8\n",
      "05/23/2022 08:20:54 - INFO - root -     Gradient Accumulation steps = 1\n",
      "05/23/2022 08:20:54 - INFO - root -     Total optimization steps = 104\n"
     ]
    },
    {
     "output_type": "display_data",
     "data": {
      "text/plain": [
       "<IPython.core.display.HTML object>"
      ],
      "text/html": [
       "\n",
       "<style>\n",
       "    /* Turns off some styling */\n",
       "    progress {\n",
       "        /* gets rid of default border in Firefox and Opera. */\n",
       "        border: none;\n",
       "        /* Needs to be in here for Safari polyfill so background images work as expected. */\n",
       "        background-size: auto;\n",
       "    }\n",
       "    .progress-bar-interrupted, .progress-bar-interrupted::-webkit-progress-bar {\n",
       "        background: #F44336;\n",
       "    }\n",
       "</style>\n"
      ]
     },
     "metadata": {}
    },
    {
     "output_type": "display_data",
     "data": {
      "text/plain": [
       "<IPython.core.display.HTML object>"
      ],
      "text/html": [
       ""
      ]
     },
     "metadata": {}
    },
    {
     "output_type": "stream",
     "name": "stderr",
     "text": [
      "/usr/local/lib/python3.7/dist-packages/pytorch_lamb/lamb.py:96: UserWarning: This overload of add_ is deprecated:\n",
      "\tadd_(Number alpha, Tensor other)\n",
      "Consider using one of the following signatures instead:\n",
      "\tadd_(Tensor other, *, Number alpha) (Triggered internally at  ../torch/csrc/utils/python_arg_parser.cpp:1055.)\n",
      "  exp_avg.mul_(beta1).add_(1 - beta1, grad)\n"
     ]
    },
    {
     "output_type": "stream",
     "name": "stdout",
     "text": [
      "05/23/2022 08:20:59 - INFO - root -   Running evaluation\n",
      "05/23/2022 08:20:59 - INFO - root -     Num examples = 50\n",
      "05/23/2022 08:20:59 - INFO - root -     Batch size = 16\n"
     ]
    },
    {
     "output_type": "display_data",
     "data": {
      "text/plain": [
       "<IPython.core.display.HTML object>"
      ],
      "text/html": [
       "\n",
       "<style>\n",
       "    /* Turns off some styling */\n",
       "    progress {\n",
       "        /* gets rid of default border in Firefox and Opera. */\n",
       "        border: none;\n",
       "        /* Needs to be in here for Safari polyfill so background images work as expected. */\n",
       "        background-size: auto;\n",
       "    }\n",
       "    .progress-bar-interrupted, .progress-bar-interrupted::-webkit-progress-bar {\n",
       "        background: #F44336;\n",
       "    }\n",
       "</style>\n"
      ]
     },
     "metadata": {}
    },
    {
     "output_type": "display_data",
     "data": {
      "text/plain": [
       "<IPython.core.display.HTML object>"
      ],
      "text/html": [
       "\n",
       "    <div>\n",
       "      <progress value='4' class='' max='4' style='width:300px; height:20px; vertical-align: middle;'></progress>\n",
       "      100.00% [4/4 00:00<00:00]\n",
       "    </div>\n",
       "    "
      ]
     },
     "metadata": {}
    },
    {
     "output_type": "stream",
     "name": "stdout",
     "text": [
      "05/23/2022 08:21:00 - INFO - root -   eval_loss after epoch 1: 0.5728354081511497: \n",
      "05/23/2022 08:21:00 - INFO - root -   eval_accuracy after epoch 1: 0.76: \n",
      "05/23/2022 08:21:00 - INFO - root -   lr after epoch 1: 0.004809698831278217\n",
      "05/23/2022 08:21:00 - INFO - root -   train_loss after epoch 1: 0.7007812995177048\n",
      "05/23/2022 08:21:00 - INFO - root -   \n",
      "\n"
     ]
    },
    {
     "output_type": "stream",
     "name": "stderr",
     "text": [
      "/usr/local/lib/python3.7/dist-packages/torch/optim/lr_scheduler.py:249: UserWarning: To get the last learning rate computed by the scheduler, please use `get_last_lr()`.\n",
      "  warnings.warn(\"To get the last learning rate computed by the scheduler, \"\n"
     ]
    },
    {
     "output_type": "stream",
     "name": "stdout",
     "text": [
      "05/23/2022 08:21:05 - INFO - root -   Running evaluation\n",
      "05/23/2022 08:21:05 - INFO - root -     Num examples = 50\n",
      "05/23/2022 08:21:05 - INFO - root -     Batch size = 16\n"
     ]
    },
    {
     "output_type": "display_data",
     "data": {
      "text/plain": [
       "<IPython.core.display.HTML object>"
      ],
      "text/html": [
       "\n",
       "<style>\n",
       "    /* Turns off some styling */\n",
       "    progress {\n",
       "        /* gets rid of default border in Firefox and Opera. */\n",
       "        border: none;\n",
       "        /* Needs to be in here for Safari polyfill so background images work as expected. */\n",
       "        background-size: auto;\n",
       "    }\n",
       "    .progress-bar-interrupted, .progress-bar-interrupted::-webkit-progress-bar {\n",
       "        background: #F44336;\n",
       "    }\n",
       "</style>\n"
      ]
     },
     "metadata": {}
    },
    {
     "output_type": "display_data",
     "data": {
      "text/plain": [
       "<IPython.core.display.HTML object>"
      ],
      "text/html": [
       "\n",
       "    <div>\n",
       "      <progress value='4' class='' max='4' style='width:300px; height:20px; vertical-align: middle;'></progress>\n",
       "      100.00% [4/4 00:00<00:00]\n",
       "    </div>\n",
       "    "
      ]
     },
     "metadata": {}
    },
    {
     "output_type": "stream",
     "name": "stdout",
     "text": [
      "05/23/2022 08:21:06 - INFO - root -   eval_loss after epoch 2: 0.2697059065103531: \n",
      "05/23/2022 08:21:06 - INFO - root -   eval_accuracy after epoch 2: 0.88: \n",
      "05/23/2022 08:21:06 - INFO - root -   lr after epoch 2: 0.004267766952966369\n",
      "05/23/2022 08:21:06 - INFO - root -   train_loss after epoch 2: 0.488411075507219\n",
      "05/23/2022 08:21:06 - INFO - root -   \n",
      "\n",
      "05/23/2022 08:21:11 - INFO - root -   Running evaluation\n",
      "05/23/2022 08:21:11 - INFO - root -     Num examples = 50\n",
      "05/23/2022 08:21:11 - INFO - root -     Batch size = 16\n"
     ]
    },
    {
     "output_type": "display_data",
     "data": {
      "text/plain": [
       "<IPython.core.display.HTML object>"
      ],
      "text/html": [
       "\n",
       "<style>\n",
       "    /* Turns off some styling */\n",
       "    progress {\n",
       "        /* gets rid of default border in Firefox and Opera. */\n",
       "        border: none;\n",
       "        /* Needs to be in here for Safari polyfill so background images work as expected. */\n",
       "        background-size: auto;\n",
       "    }\n",
       "    .progress-bar-interrupted, .progress-bar-interrupted::-webkit-progress-bar {\n",
       "        background: #F44336;\n",
       "    }\n",
       "</style>\n"
      ]
     },
     "metadata": {}
    },
    {
     "output_type": "display_data",
     "data": {
      "text/plain": [
       "<IPython.core.display.HTML object>"
      ],
      "text/html": [
       "\n",
       "    <div>\n",
       "      <progress value='4' class='' max='4' style='width:300px; height:20px; vertical-align: middle;'></progress>\n",
       "      100.00% [4/4 00:00<00:00]\n",
       "    </div>\n",
       "    "
      ]
     },
     "metadata": {}
    },
    {
     "output_type": "stream",
     "name": "stdout",
     "text": [
      "05/23/2022 08:21:12 - INFO - root -   eval_loss after epoch 3: 1.6910017889604205: \n",
      "05/23/2022 08:21:12 - INFO - root -   eval_accuracy after epoch 3: 0.76: \n",
      "05/23/2022 08:21:12 - INFO - root -   lr after epoch 3: 0.003456708580912725\n",
      "05/23/2022 08:21:12 - INFO - root -   train_loss after epoch 3: 0.32395122859340447\n",
      "05/23/2022 08:21:12 - INFO - root -   \n",
      "\n",
      "05/23/2022 08:21:17 - INFO - root -   Running evaluation\n",
      "05/23/2022 08:21:17 - INFO - root -     Num examples = 50\n",
      "05/23/2022 08:21:17 - INFO - root -     Batch size = 16\n"
     ]
    },
    {
     "output_type": "display_data",
     "data": {
      "text/plain": [
       "<IPython.core.display.HTML object>"
      ],
      "text/html": [
       "\n",
       "<style>\n",
       "    /* Turns off some styling */\n",
       "    progress {\n",
       "        /* gets rid of default border in Firefox and Opera. */\n",
       "        border: none;\n",
       "        /* Needs to be in here for Safari polyfill so background images work as expected. */\n",
       "        background-size: auto;\n",
       "    }\n",
       "    .progress-bar-interrupted, .progress-bar-interrupted::-webkit-progress-bar {\n",
       "        background: #F44336;\n",
       "    }\n",
       "</style>\n"
      ]
     },
     "metadata": {}
    },
    {
     "output_type": "display_data",
     "data": {
      "text/plain": [
       "<IPython.core.display.HTML object>"
      ],
      "text/html": [
       "\n",
       "    <div>\n",
       "      <progress value='4' class='' max='4' style='width:300px; height:20px; vertical-align: middle;'></progress>\n",
       "      100.00% [4/4 00:00<00:00]\n",
       "    </div>\n",
       "    "
      ]
     },
     "metadata": {}
    },
    {
     "output_type": "stream",
     "name": "stdout",
     "text": [
      "05/23/2022 08:21:18 - INFO - root -   eval_loss after epoch 4: 0.47425962099805474: \n",
      "05/23/2022 08:21:18 - INFO - root -   eval_accuracy after epoch 4: 0.82: \n",
      "05/23/2022 08:21:18 - INFO - root -   lr after epoch 4: 0.0025\n",
      "05/23/2022 08:21:18 - INFO - root -   train_loss after epoch 4: 0.28790798793152833\n",
      "05/23/2022 08:21:18 - INFO - root -   \n",
      "\n",
      "05/23/2022 08:21:23 - INFO - root -   Running evaluation\n",
      "05/23/2022 08:21:23 - INFO - root -     Num examples = 50\n",
      "05/23/2022 08:21:23 - INFO - root -     Batch size = 16\n"
     ]
    },
    {
     "output_type": "display_data",
     "data": {
      "text/plain": [
       "<IPython.core.display.HTML object>"
      ],
      "text/html": [
       "\n",
       "<style>\n",
       "    /* Turns off some styling */\n",
       "    progress {\n",
       "        /* gets rid of default border in Firefox and Opera. */\n",
       "        border: none;\n",
       "        /* Needs to be in here for Safari polyfill so background images work as expected. */\n",
       "        background-size: auto;\n",
       "    }\n",
       "    .progress-bar-interrupted, .progress-bar-interrupted::-webkit-progress-bar {\n",
       "        background: #F44336;\n",
       "    }\n",
       "</style>\n"
      ]
     },
     "metadata": {}
    },
    {
     "output_type": "display_data",
     "data": {
      "text/plain": [
       "<IPython.core.display.HTML object>"
      ],
      "text/html": [
       "\n",
       "    <div>\n",
       "      <progress value='4' class='' max='4' style='width:300px; height:20px; vertical-align: middle;'></progress>\n",
       "      100.00% [4/4 00:00<00:00]\n",
       "    </div>\n",
       "    "
      ]
     },
     "metadata": {}
    },
    {
     "output_type": "stream",
     "name": "stdout",
     "text": [
      "05/23/2022 08:21:24 - INFO - root -   eval_loss after epoch 5: 0.8021617252379656: \n",
      "05/23/2022 08:21:24 - INFO - root -   eval_accuracy after epoch 5: 0.86: \n",
      "05/23/2022 08:21:24 - INFO - root -   lr after epoch 5: 0.0015432914190872758\n",
      "05/23/2022 08:21:24 - INFO - root -   train_loss after epoch 5: 0.2086436680983752\n",
      "05/23/2022 08:21:24 - INFO - root -   \n",
      "\n",
      "05/23/2022 08:21:29 - INFO - root -   Running evaluation\n",
      "05/23/2022 08:21:29 - INFO - root -     Num examples = 50\n",
      "05/23/2022 08:21:29 - INFO - root -     Batch size = 16\n"
     ]
    },
    {
     "output_type": "display_data",
     "data": {
      "text/plain": [
       "<IPython.core.display.HTML object>"
      ],
      "text/html": [
       "\n",
       "<style>\n",
       "    /* Turns off some styling */\n",
       "    progress {\n",
       "        /* gets rid of default border in Firefox and Opera. */\n",
       "        border: none;\n",
       "        /* Needs to be in here for Safari polyfill so background images work as expected. */\n",
       "        background-size: auto;\n",
       "    }\n",
       "    .progress-bar-interrupted, .progress-bar-interrupted::-webkit-progress-bar {\n",
       "        background: #F44336;\n",
       "    }\n",
       "</style>\n"
      ]
     },
     "metadata": {}
    },
    {
     "output_type": "display_data",
     "data": {
      "text/plain": [
       "<IPython.core.display.HTML object>"
      ],
      "text/html": [
       "\n",
       "    <div>\n",
       "      <progress value='4' class='' max='4' style='width:300px; height:20px; vertical-align: middle;'></progress>\n",
       "      100.00% [4/4 00:00<00:00]\n",
       "    </div>\n",
       "    "
      ]
     },
     "metadata": {}
    },
    {
     "output_type": "stream",
     "name": "stdout",
     "text": [
      "05/23/2022 08:21:30 - INFO - root -   eval_loss after epoch 6: 0.9326862530251674: \n",
      "05/23/2022 08:21:30 - INFO - root -   eval_accuracy after epoch 6: 0.86: \n",
      "05/23/2022 08:21:30 - INFO - root -   lr after epoch 6: 0.0007322330470336313\n",
      "05/23/2022 08:21:30 - INFO - root -   train_loss after epoch 6: 0.052237032893642135\n",
      "05/23/2022 08:21:30 - INFO - root -   \n",
      "\n",
      "05/23/2022 08:21:35 - INFO - root -   Running evaluation\n",
      "05/23/2022 08:21:35 - INFO - root -     Num examples = 50\n",
      "05/23/2022 08:21:35 - INFO - root -     Batch size = 16\n"
     ]
    },
    {
     "output_type": "display_data",
     "data": {
      "text/plain": [
       "<IPython.core.display.HTML object>"
      ],
      "text/html": [
       "\n",
       "<style>\n",
       "    /* Turns off some styling */\n",
       "    progress {\n",
       "        /* gets rid of default border in Firefox and Opera. */\n",
       "        border: none;\n",
       "        /* Needs to be in here for Safari polyfill so background images work as expected. */\n",
       "        background-size: auto;\n",
       "    }\n",
       "    .progress-bar-interrupted, .progress-bar-interrupted::-webkit-progress-bar {\n",
       "        background: #F44336;\n",
       "    }\n",
       "</style>\n"
      ]
     },
     "metadata": {}
    },
    {
     "output_type": "display_data",
     "data": {
      "text/plain": [
       "<IPython.core.display.HTML object>"
      ],
      "text/html": [
       "\n",
       "    <div>\n",
       "      <progress value='4' class='' max='4' style='width:300px; height:20px; vertical-align: middle;'></progress>\n",
       "      100.00% [4/4 00:00<00:00]\n",
       "    </div>\n",
       "    "
      ]
     },
     "metadata": {}
    },
    {
     "output_type": "stream",
     "name": "stdout",
     "text": [
      "05/23/2022 08:21:36 - INFO - root -   eval_loss after epoch 7: 0.8644221118702262: \n",
      "05/23/2022 08:21:36 - INFO - root -   eval_accuracy after epoch 7: 0.86: \n",
      "05/23/2022 08:21:36 - INFO - root -   lr after epoch 7: 0.00019030116872178316\n",
      "05/23/2022 08:21:36 - INFO - root -   train_loss after epoch 7: 0.11741307552718074\n",
      "05/23/2022 08:21:36 - INFO - root -   \n",
      "\n",
      "05/23/2022 08:21:42 - INFO - root -   Running evaluation\n",
      "05/23/2022 08:21:42 - INFO - root -     Num examples = 50\n",
      "05/23/2022 08:21:42 - INFO - root -     Batch size = 16\n"
     ]
    },
    {
     "output_type": "display_data",
     "data": {
      "text/plain": [
       "<IPython.core.display.HTML object>"
      ],
      "text/html": [
       "\n",
       "<style>\n",
       "    /* Turns off some styling */\n",
       "    progress {\n",
       "        /* gets rid of default border in Firefox and Opera. */\n",
       "        border: none;\n",
       "        /* Needs to be in here for Safari polyfill so background images work as expected. */\n",
       "        background-size: auto;\n",
       "    }\n",
       "    .progress-bar-interrupted, .progress-bar-interrupted::-webkit-progress-bar {\n",
       "        background: #F44336;\n",
       "    }\n",
       "</style>\n"
      ]
     },
     "metadata": {}
    },
    {
     "output_type": "display_data",
     "data": {
      "text/plain": [
       "<IPython.core.display.HTML object>"
      ],
      "text/html": [
       "\n",
       "    <div>\n",
       "      <progress value='4' class='' max='4' style='width:300px; height:20px; vertical-align: middle;'></progress>\n",
       "      100.00% [4/4 00:00<00:00]\n",
       "    </div>\n",
       "    "
      ]
     },
     "metadata": {}
    },
    {
     "output_type": "stream",
     "name": "stdout",
     "text": [
      "05/23/2022 08:21:43 - INFO - root -   eval_loss after epoch 8: 0.7857903833464661: \n",
      "05/23/2022 08:21:43 - INFO - root -   eval_accuracy after epoch 8: 0.88: \n",
      "05/23/2022 08:21:43 - INFO - root -   lr after epoch 8: 0.0\n",
      "05/23/2022 08:21:43 - INFO - root -   train_loss after epoch 8: 0.00013590134067971332\n",
      "05/23/2022 08:21:43 - INFO - root -   \n",
      "\n"
     ]
    },
    {
     "output_type": "execute_result",
     "data": {
      "text/plain": [
       "(104, 0.2724351586762168)"
      ]
     },
     "metadata": {},
     "execution_count": 14
    }
   ],
   "source": [
    "learner.fit(8, args.learning_rate, validate=True)"
   ]
  },
  {
   "cell_type": "code",
   "execution_count": 15,
   "metadata": {
    "id": "D6nA5OBouFYx",
    "executionInfo": {
     "status": "ok",
     "timestamp": 1653294119307,
     "user_tz": -480,
     "elapsed": 2183,
     "user": {
      "displayName": "冯好国",
      "userId": "13608503525967614840"
     }
    }
   },
   "outputs": [],
   "source": [
    "learner.save_model()"
   ]
  },
  {
   "cell_type": "code",
   "execution_count": 16,
   "metadata": {
    "id": "Q90BX_p_uFYy",
    "executionInfo": {
     "status": "ok",
     "timestamp": 1653294119308,
     "user_tz": -480,
     "elapsed": 6,
     "user": {
      "displayName": "冯好国",
      "userId": "13608503525967614840"
     }
    }
   },
   "outputs": [],
   "source": [
    "from fast_bert.prediction import BertClassificationPredictor"
   ]
  },
  {
   "cell_type": "code",
   "execution_count": 17,
   "metadata": {
    "id": "H9Q-0FtguFYy",
    "outputId": "7e8c18cf-4b12-4cc3-c95e-6a86cbc75c03",
    "colab": {
     "base_uri": "https://localhost:8080/"
    },
    "executionInfo": {
     "status": "ok",
     "timestamp": 1653294120691,
     "user_tz": -480,
     "elapsed": 966,
     "user": {
      "displayName": "冯好国",
      "userId": "13608503525967614840"
     }
    }
   },
   "outputs": [
    {
     "output_type": "execute_result",
     "data": {
      "text/plain": [
       "<fast_bert.prediction.BertClassificationPredictor at 0x7f1a0f5edc90>"
      ]
     },
     "metadata": {},
     "execution_count": 17
    }
   ],
   "source": [
    "predictor = BertClassificationPredictor(OUT_PATH/'model_out', LABEL_PATH, multi_label=False, model_type=args.model_type)\n",
    "predictor"
   ]
  },
  {
   "cell_type": "code",
   "execution_count": 18,
   "metadata": {
    "id": "rI623OHguFYy",
    "outputId": "d775d9d5-c9d4-4ed1-f1a8-c53ec20b4d76",
    "colab": {
     "base_uri": "https://localhost:8080/"
    },
    "executionInfo": {
     "status": "ok",
     "timestamp": 1653294120692,
     "user_tz": -480,
     "elapsed": 6,
     "user": {
      "displayName": "冯好国",
      "userId": "13608503525967614840"
     }
    }
   },
   "outputs": [
    {
     "output_type": "stream",
     "name": "stdout",
     "text": [
      "05/23/2022 08:22:00 - INFO - root -   Writing example 0 of 1\n"
     ]
    },
    {
     "output_type": "execute_result",
     "data": {
      "text/plain": [
       "[[('0', 0.9999613761901855), ('1', 3.858158379443921e-05)]]"
      ]
     },
     "metadata": {},
     "execution_count": 18
    }
   ],
   "source": [
    "predictor.predict_batch([\"i hate you\"])"
   ]
  },
  {
   "cell_type": "code",
   "execution_count": null,
   "metadata": {
    "id": "J1yQU5GguFYz"
   },
   "outputs": [],
   "source": [
    ""
   ]
  }
 ],
 "metadata": {
  "file_extension": ".py",
  "kernelspec": {
   "display_name": "Python 3 (ipykernel)",
   "language": "python",
   "name": "python3"
  },
  "language_info": {
   "codemirror_mode": {
    "name": "ipython",
    "version": 3
   },
   "file_extension": ".py",
   "mimetype": "text/x-python",
   "name": "python",
   "nbconvert_exporter": "python",
   "pygments_lexer": "ipython3",
   "version": "3.7.13"
  },
  "mimetype": "text/x-python",
  "name": "python",
  "npconvert_exporter": "python",
  "pygments_lexer": "ipython3",
  "version": 3,
  "colab": {
   "name": "fast_test_multi_class.ipynb",
   "provenance": [],
   "collapsed_sections": []
  },
  "accelerator": "GPU"
 },
 "nbformat": 4,
 "nbformat_minor": 0
}